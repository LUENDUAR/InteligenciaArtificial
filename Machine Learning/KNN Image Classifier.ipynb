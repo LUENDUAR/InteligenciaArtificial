{
 "cells": [
  {
   "cell_type": "code",
   "execution_count": 1,
   "metadata": {},
   "outputs": [],
   "source": [
    "import numpy as np\n",
    "import random\n",
    "from IPython.display import display\n",
    "import matplotlib.pyplot as plt"
   ]
  },
  {
   "cell_type": "code",
   "execution_count": 2,
   "metadata": {},
   "outputs": [],
   "source": [
    "def loadMNIST( prefix, folder ):\n",
    "    intType = np.dtype( 'int32' ).newbyteorder( '>' )\n",
    "    nMetaDataBytes = 4 * intType.itemsize\n",
    "\n",
    "    data = np.fromfile( folder + \"/\" + prefix + '-images.idx3-ubyte', dtype = 'ubyte' )\n",
    "    magicBytes, nImages, width, height = np.frombuffer( data[:nMetaDataBytes].tobytes(), intType )\n",
    "    data = data[nMetaDataBytes:].astype( dtype = 'float32' ).reshape( [ nImages, width, height ] )\n",
    "\n",
    "    labels = np.fromfile( folder + \"/\" + prefix + '-labels.idx1-ubyte',\n",
    "                          dtype = 'ubyte' )[2 * intType.itemsize:]\n",
    "\n",
    "    return data, labels\n",
    "\n",
    "images_tr, labels_tr = loadMNIST( \"train\", \"./mnist\" )\n",
    "images_te, labels_te = loadMNIST( \"t10k\", \"./mnist\" )\n",
    "# imagenes en array de 60000 x 28 x 28 -> 60000 imagenes de 28x28"
   ]
  },
  {
   "cell_type": "code",
   "execution_count": 3,
   "metadata": {},
   "outputs": [],
   "source": [
    "# coger una aleatoria del grupo de test\n",
    "i = random.randint(0,images_te.shape[0])\n",
    "img_test = images_te[i].flatten()\n",
    "label_test = labels_te[i]"
   ]
  },
  {
   "cell_type": "code",
   "execution_count": 4,
   "metadata": {},
   "outputs": [],
   "source": [
    "# buscamos los vecinos más cercanos (KNN)\n",
    "k = 5 #número de vecinos\n",
    "\n",
    "distances = []\n",
    "for i in range(images_tr.shape[0]):\n",
    "    dist = np.sqrt(np.sum(np.square(images_tr[i].flatten() - img_test)))\n",
    "    distances.append((dist, labels_tr[i])) # guardamos las etiquetas y la distancia\n",
    "\n",
    "#ordenamos por distancia y nos quedamos con los k vecinos más cercanos\n",
    "distances.sort(key=lambda x: x[0])\n",
    "neighbors = distances[:k]"
   ]
  },
  {
   "cell_type": "code",
   "execution_count": 5,
   "metadata": {},
   "outputs": [],
   "source": [
    "# contamos los votos para ver qué etiqueta gana\n",
    "votes = [0,0,0,0,0,0,0,0,0,0]\n",
    "for neighbor in neighbors:\n",
    "    votes[neighbor[1]] = votes[neighbor[1]] + 1\n",
    "# obtenemos la etiqueta ganadora\n",
    "pred_label = votes.index(max(votes))"
   ]
  },
  {
   "cell_type": "code",
   "execution_count": 6,
   "metadata": {},
   "outputs": [
    {
     "name": "stdout",
     "output_type": "stream",
     "text": [
      "Predicted: 2\n",
      "Real: 2\n"
     ]
    },
    {
     "data": {
      "text/plain": [
       "<matplotlib.image.AxesImage at 0x7f957af54dd8>"
      ]
     },
     "metadata": {},
     "output_type": "display_data"
    },
    {
     "data": {
      "image/png": "[encoded data removed]",
      "text/plain": [
       "<matplotlib.figure.Figure at 0x7f957b6682e8>"
      ]
     },
     "metadata": {
      "needs_background": "light"
     },
     "output_type": "display_data"
    }
   ],
   "source": [
    "print (\"Predicted: \" + str(pred_label))\n",
    "print (\"Real: \" + str(label_test))\n",
    "img = plt.imshow(img_test.reshape(28,28), cmap=\"gray\")\n",
    "display(img)"
   ]
  },
  {
   "cell_type": "code",
   "execution_count": null,
   "metadata": {},
   "outputs": [],
   "source": []
  },
  {
   "cell_type": "code",
   "execution_count": null,
   "metadata": {},
   "outputs": [],
   "source": []
  }
 ],
 "metadata": {
  "kernelspec": {
   "display_name": "Python 3",
   "language": "python",
   "name": "python3"
  },
  "language_info": {
   "codemirror_mode": {
    "name": "ipython",
    "version": 3
   },
   "file_extension": ".py",
   "mimetype": "text/x-python",
   "name": "python",
   "nbconvert_exporter": "python",
   "pygments_lexer": "ipython3",
   "version": "3.5.3"
  }
 },
 "nbformat": 4,
 "nbformat_minor": 2
}
