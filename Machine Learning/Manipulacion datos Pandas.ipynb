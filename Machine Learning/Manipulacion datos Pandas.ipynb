{
 "cells": [
  {
   "cell_type": "markdown",
   "metadata": {},
   "source": [
    "Vamos a trabajar con el siguiente dataset\n",
    "* https://datosabiertos.malaga.eu/dataset/lecturas-cuadros-electricos-marzo-2017"
   ]
  },
  {
   "cell_type": "code",
   "execution_count": 1,
   "metadata": {},
   "outputs": [],
   "source": [
    "import pandas as pd"
   ]
  },
  {
   "cell_type": "code",
   "execution_count": 26,
   "metadata": {},
   "outputs": [
    {
     "data": {
      "text/html": [
       "<div>\n",
       "<table border=\"1\" class=\"dataframe\">\n",
       "  <thead>\n",
       "    <tr style=\"text-align: right;\">\n",
       "      <th></th>\n",
       "      <th>ID_NODO</th>\n",
       "      <th>ID_DIA</th>\n",
       "      <th>FECHA_TOMA_DATO</th>\n",
       "      <th>ENERGIA_ACTIVA_ACUMULADA</th>\n",
       "      <th>LECTURA_ENERGIA_ACTIVA</th>\n",
       "      <th>ENERGIA_REACTIVA_ACUMULADA</th>\n",
       "      <th>LECTURA_ENERGIA_REACTIVA</th>\n",
       "      <th>POTENCIA_TOTAL_ACUMULADA</th>\n",
       "      <th>LECTURA_POTENCIA_TOTAL</th>\n",
       "    </tr>\n",
       "  </thead>\n",
       "  <tbody>\n",
       "    <tr>\n",
       "      <th>0</th>\n",
       "      <td>81848</td>\n",
       "      <td>28</td>\n",
       "      <td>2017-02-28 23:11:54</td>\n",
       "      <td>66884.601562</td>\n",
       "      <td>0.000000</td>\n",
       "      <td>46464.699219</td>\n",
       "      <td>0.000000</td>\n",
       "      <td>0.000000</td>\n",
       "      <td>0.0</td>\n",
       "    </tr>\n",
       "    <tr>\n",
       "      <th>1</th>\n",
       "      <td>98372</td>\n",
       "      <td>28</td>\n",
       "      <td>2017-02-28 23:11:54</td>\n",
       "      <td>264010.593750</td>\n",
       "      <td>0.000000</td>\n",
       "      <td>169612.296875</td>\n",
       "      <td>0.000000</td>\n",
       "      <td>0.000000</td>\n",
       "      <td>0.0</td>\n",
       "    </tr>\n",
       "    <tr>\n",
       "      <th>2</th>\n",
       "      <td>98526</td>\n",
       "      <td>28</td>\n",
       "      <td>2017-02-28 23:11:54</td>\n",
       "      <td>56888.000000</td>\n",
       "      <td>0.398438</td>\n",
       "      <td>61891.300781</td>\n",
       "      <td>0.000000</td>\n",
       "      <td>14.000000</td>\n",
       "      <td>0.0</td>\n",
       "    </tr>\n",
       "    <tr>\n",
       "      <th>3</th>\n",
       "      <td>98680</td>\n",
       "      <td>28</td>\n",
       "      <td>2017-02-28 23:11:54</td>\n",
       "      <td>35347.699219</td>\n",
       "      <td>0.398438</td>\n",
       "      <td>37424.699219</td>\n",
       "      <td>0.398438</td>\n",
       "      <td>77.006493</td>\n",
       "      <td>0.0</td>\n",
       "    </tr>\n",
       "    <tr>\n",
       "      <th>4</th>\n",
       "      <td>98834</td>\n",
       "      <td>28</td>\n",
       "      <td>2017-02-28 23:11:54</td>\n",
       "      <td>93080.703125</td>\n",
       "      <td>0.000000</td>\n",
       "      <td>47944.500000</td>\n",
       "      <td>0.000000</td>\n",
       "      <td>0.000000</td>\n",
       "      <td>0.0</td>\n",
       "    </tr>\n",
       "  </tbody>\n",
       "</table>\n",
       "</div>"
      ],
      "text/plain": [
       "   ID_NODO  ID_DIA      FECHA_TOMA_DATO  ENERGIA_ACTIVA_ACUMULADA  \\\n",
       "0    81848      28  2017-02-28 23:11:54              66884.601562   \n",
       "1    98372      28  2017-02-28 23:11:54             264010.593750   \n",
       "2    98526      28  2017-02-28 23:11:54              56888.000000   \n",
       "3    98680      28  2017-02-28 23:11:54              35347.699219   \n",
       "4    98834      28  2017-02-28 23:11:54              93080.703125   \n",
       "\n",
       "   LECTURA_ENERGIA_ACTIVA  ENERGIA_REACTIVA_ACUMULADA  \\\n",
       "0                0.000000                46464.699219   \n",
       "1                0.000000               169612.296875   \n",
       "2                0.398438                61891.300781   \n",
       "3                0.398438                37424.699219   \n",
       "4                0.000000                47944.500000   \n",
       "\n",
       "   LECTURA_ENERGIA_REACTIVA  POTENCIA_TOTAL_ACUMULADA  LECTURA_POTENCIA_TOTAL  \n",
       "0                  0.000000                  0.000000                     0.0  \n",
       "1                  0.000000                  0.000000                     0.0  \n",
       "2                  0.000000                 14.000000                     0.0  \n",
       "3                  0.398438                 77.006493                     0.0  \n",
       "4                  0.000000                  0.000000                     0.0  "
      ]
     },
     "execution_count": 26,
     "metadata": {},
     "output_type": "execute_result"
    }
   ],
   "source": [
    "data_mar = pd.read_csv(\"201703.csv\", sep=\";\")\n",
    "data_mar.head()"
   ]
  },
  {
   "cell_type": "code",
   "execution_count": 27,
   "metadata": {},
   "outputs": [
    {
     "data": {
      "text/html": [
       "<div>\n",
       "<table border=\"1\" class=\"dataframe\">\n",
       "  <thead>\n",
       "    <tr style=\"text-align: right;\">\n",
       "      <th></th>\n",
       "      <th>ID_NODO</th>\n",
       "      <th>ID_DIA</th>\n",
       "      <th>ENERGIA_ACTIVA_ACUMULADA</th>\n",
       "      <th>LECTURA_ENERGIA_ACTIVA</th>\n",
       "      <th>ENERGIA_REACTIVA_ACUMULADA</th>\n",
       "      <th>LECTURA_ENERGIA_REACTIVA</th>\n",
       "      <th>POTENCIA_TOTAL_ACUMULADA</th>\n",
       "      <th>LECTURA_POTENCIA_TOTAL</th>\n",
       "    </tr>\n",
       "  </thead>\n",
       "  <tbody>\n",
       "    <tr>\n",
       "      <th>count</th>\n",
       "      <td>413108.000000</td>\n",
       "      <td>413108.000000</td>\n",
       "      <td>4.131080e+05</td>\n",
       "      <td>4.131080e+05</td>\n",
       "      <td>4.131080e+05</td>\n",
       "      <td>4.131080e+05</td>\n",
       "      <td>413108.000000</td>\n",
       "      <td>413108.000000</td>\n",
       "    </tr>\n",
       "    <tr>\n",
       "      <th>mean</th>\n",
       "      <td>71962.043165</td>\n",
       "      <td>15.982503</td>\n",
       "      <td>2.330070e+05</td>\n",
       "      <td>1.268065e+02</td>\n",
       "      <td>1.679989e+05</td>\n",
       "      <td>1.002321e+02</td>\n",
       "      <td>2291.475042</td>\n",
       "      <td>42.950668</td>\n",
       "    </tr>\n",
       "    <tr>\n",
       "      <th>std</th>\n",
       "      <td>26718.517878</td>\n",
       "      <td>8.936663</td>\n",
       "      <td>1.130742e+06</td>\n",
       "      <td>2.271224e+04</td>\n",
       "      <td>8.109683e+05</td>\n",
       "      <td>1.819730e+04</td>\n",
       "      <td>12654.772009</td>\n",
       "      <td>1263.035618</td>\n",
       "    </tr>\n",
       "    <tr>\n",
       "      <th>min</th>\n",
       "      <td>540.000000</td>\n",
       "      <td>1.000000</td>\n",
       "      <td>0.000000e+00</td>\n",
       "      <td>0.000000e+00</td>\n",
       "      <td>0.000000e+00</td>\n",
       "      <td>0.000000e+00</td>\n",
       "      <td>0.000000</td>\n",
       "      <td>0.000000</td>\n",
       "    </tr>\n",
       "    <tr>\n",
       "      <th>25%</th>\n",
       "      <td>70605.000000</td>\n",
       "      <td>8.000000</td>\n",
       "      <td>0.000000e+00</td>\n",
       "      <td>0.000000e+00</td>\n",
       "      <td>0.000000e+00</td>\n",
       "      <td>0.000000e+00</td>\n",
       "      <td>0.000000</td>\n",
       "      <td>0.000000</td>\n",
       "    </tr>\n",
       "    <tr>\n",
       "      <th>50%</th>\n",
       "      <td>76150.000000</td>\n",
       "      <td>16.000000</td>\n",
       "      <td>2.475400e+03</td>\n",
       "      <td>0.000000e+00</td>\n",
       "      <td>3.182920e+04</td>\n",
       "      <td>0.000000e+00</td>\n",
       "      <td>0.000000</td>\n",
       "      <td>0.000000</td>\n",
       "    </tr>\n",
       "    <tr>\n",
       "      <th>75%</th>\n",
       "      <td>81540.000000</td>\n",
       "      <td>24.000000</td>\n",
       "      <td>1.568925e+05</td>\n",
       "      <td>0.000000e+00</td>\n",
       "      <td>9.713650e+04</td>\n",
       "      <td>0.000000e+00</td>\n",
       "      <td>3.000000</td>\n",
       "      <td>0.000000</td>\n",
       "    </tr>\n",
       "    <tr>\n",
       "      <th>max</th>\n",
       "      <td>103620.000000</td>\n",
       "      <td>31.000000</td>\n",
       "      <td>1.267291e+07</td>\n",
       "      <td>1.148814e+07</td>\n",
       "      <td>9.325143e+06</td>\n",
       "      <td>9.117862e+06</td>\n",
       "      <td>234922.625488</td>\n",
       "      <td>216123.260318</td>\n",
       "    </tr>\n",
       "  </tbody>\n",
       "</table>\n",
       "</div>"
      ],
      "text/plain": [
       "             ID_NODO         ID_DIA  ENERGIA_ACTIVA_ACUMULADA  \\\n",
       "count  413108.000000  413108.000000              4.131080e+05   \n",
       "mean    71962.043165      15.982503              2.330070e+05   \n",
       "std     26718.517878       8.936663              1.130742e+06   \n",
       "min       540.000000       1.000000              0.000000e+00   \n",
       "25%     70605.000000       8.000000              0.000000e+00   \n",
       "50%     76150.000000      16.000000              2.475400e+03   \n",
       "75%     81540.000000      24.000000              1.568925e+05   \n",
       "max    103620.000000      31.000000              1.267291e+07   \n",
       "\n",
       "       LECTURA_ENERGIA_ACTIVA  ENERGIA_REACTIVA_ACUMULADA  \\\n",
       "count            4.131080e+05                4.131080e+05   \n",
       "mean             1.268065e+02                1.679989e+05   \n",
       "std              2.271224e+04                8.109683e+05   \n",
       "min              0.000000e+00                0.000000e+00   \n",
       "25%              0.000000e+00                0.000000e+00   \n",
       "50%              0.000000e+00                3.182920e+04   \n",
       "75%              0.000000e+00                9.713650e+04   \n",
       "max              1.148814e+07                9.325143e+06   \n",
       "\n",
       "       LECTURA_ENERGIA_REACTIVA  POTENCIA_TOTAL_ACUMULADA  \\\n",
       "count              4.131080e+05             413108.000000   \n",
       "mean               1.002321e+02               2291.475042   \n",
       "std                1.819730e+04              12654.772009   \n",
       "min                0.000000e+00                  0.000000   \n",
       "25%                0.000000e+00                  0.000000   \n",
       "50%                0.000000e+00                  0.000000   \n",
       "75%                0.000000e+00                  3.000000   \n",
       "max                9.117862e+06             234922.625488   \n",
       "\n",
       "       LECTURA_POTENCIA_TOTAL  \n",
       "count           413108.000000  \n",
       "mean                42.950668  \n",
       "std               1263.035618  \n",
       "min                  0.000000  \n",
       "25%                  0.000000  \n",
       "50%                  0.000000  \n",
       "75%                  0.000000  \n",
       "max             216123.260318  "
      ]
     },
     "execution_count": 27,
     "metadata": {},
     "output_type": "execute_result"
    }
   ],
   "source": [
    "data_mar.describe()"
   ]
  },
  {
   "cell_type": "code",
   "execution_count": 28,
   "metadata": {},
   "outputs": [
    {
     "data": {
      "text/plain": [
       "(413108, 9)"
      ]
     },
     "execution_count": 28,
     "metadata": {},
     "output_type": "execute_result"
    }
   ],
   "source": [
    "data_mar.shape"
   ]
  },
  {
   "cell_type": "markdown",
   "metadata": {},
   "source": [
    "* Energía activa: los receptores eléctricos alimentados por corriente eléctrica transforman la energía eléctrica en trabajo mecánico y en calor. A este efecto útil se le denomina “energía activa” y se mide en kWh.\n",
    "\n",
    "* Energía reactiva: existen numerosos receptores, tales como motores, transformadores, reactancias, etc., que para funcionar necesitan que se formen campos magnéticos. Estos equipos, en general inductivos, absorben energía de la red para crear los campos magnéticos y la devuelven mientras desaparecen. Con este intercambio de energía, se provoca un consumo suplementario que no es aprovechable por los receptores. Se mide en kVArh. La energía reactiva provoca una sobrecarga en líneas, transformadores y generadores, sin llegar a producir un rendimiento útil. Sin embargo, la factura de energía sí la contabiliza, por lo que puede llegar a incrementarla en cantidades importantes "
   ]
  },
  {
   "cell_type": "code",
   "execution_count": 29,
   "metadata": {},
   "outputs": [],
   "source": [
    "# Borramos los campos que no vamos a necesitar: LECTURA_ENERGIA_ACTIVA, LECTURA_ENERGIA_REACTIVA, LECTURA_POTENCIA_TOTAL\n",
    "campos = data_mar.columns.values.tolist()\n",
    "eliminar = [\"LECTURA_ENERGIA_ACTIVA\", \"LECTURA_ENERGIA_REACTIVA\", \"LECTURA_POTENCIA_TOTAL\"]\n",
    "data_mar = data_mar[[e for e in campos if e not in eliminar]]"
   ]
  },
  {
   "cell_type": "code",
   "execution_count": 30,
   "metadata": {},
   "outputs": [
    {
     "data": {
      "text/html": [
       "<div>\n",
       "<table border=\"1\" class=\"dataframe\">\n",
       "  <thead>\n",
       "    <tr style=\"text-align: right;\">\n",
       "      <th></th>\n",
       "      <th>ID_NODO</th>\n",
       "      <th>ID_DIA</th>\n",
       "      <th>FECHA_TOMA_DATO</th>\n",
       "      <th>ENERGIA_ACTIVA_ACUMULADA</th>\n",
       "      <th>ENERGIA_REACTIVA_ACUMULADA</th>\n",
       "      <th>POTENCIA_TOTAL_ACUMULADA</th>\n",
       "      <th>FECHA_NUM</th>\n",
       "    </tr>\n",
       "  </thead>\n",
       "  <tbody>\n",
       "    <tr>\n",
       "      <th>0</th>\n",
       "      <td>81848</td>\n",
       "      <td>28</td>\n",
       "      <td>2017-02-28 23:11:54</td>\n",
       "      <td>66884.601562</td>\n",
       "      <td>46464.699219</td>\n",
       "      <td>0.000000</td>\n",
       "      <td>1488323514000000000</td>\n",
       "    </tr>\n",
       "    <tr>\n",
       "      <th>1</th>\n",
       "      <td>98372</td>\n",
       "      <td>28</td>\n",
       "      <td>2017-02-28 23:11:54</td>\n",
       "      <td>264010.593750</td>\n",
       "      <td>169612.296875</td>\n",
       "      <td>0.000000</td>\n",
       "      <td>1488323514000000000</td>\n",
       "    </tr>\n",
       "    <tr>\n",
       "      <th>2</th>\n",
       "      <td>98526</td>\n",
       "      <td>28</td>\n",
       "      <td>2017-02-28 23:11:54</td>\n",
       "      <td>56888.000000</td>\n",
       "      <td>61891.300781</td>\n",
       "      <td>14.000000</td>\n",
       "      <td>1488323514000000000</td>\n",
       "    </tr>\n",
       "    <tr>\n",
       "      <th>3</th>\n",
       "      <td>98680</td>\n",
       "      <td>28</td>\n",
       "      <td>2017-02-28 23:11:54</td>\n",
       "      <td>35347.699219</td>\n",
       "      <td>37424.699219</td>\n",
       "      <td>77.006493</td>\n",
       "      <td>1488323514000000000</td>\n",
       "    </tr>\n",
       "    <tr>\n",
       "      <th>4</th>\n",
       "      <td>98834</td>\n",
       "      <td>28</td>\n",
       "      <td>2017-02-28 23:11:54</td>\n",
       "      <td>93080.703125</td>\n",
       "      <td>47944.500000</td>\n",
       "      <td>0.000000</td>\n",
       "      <td>1488323514000000000</td>\n",
       "    </tr>\n",
       "  </tbody>\n",
       "</table>\n",
       "</div>"
      ],
      "text/plain": [
       "   ID_NODO  ID_DIA      FECHA_TOMA_DATO  ENERGIA_ACTIVA_ACUMULADA  \\\n",
       "0    81848      28  2017-02-28 23:11:54              66884.601562   \n",
       "1    98372      28  2017-02-28 23:11:54             264010.593750   \n",
       "2    98526      28  2017-02-28 23:11:54              56888.000000   \n",
       "3    98680      28  2017-02-28 23:11:54              35347.699219   \n",
       "4    98834      28  2017-02-28 23:11:54              93080.703125   \n",
       "\n",
       "   ENERGIA_REACTIVA_ACUMULADA  POTENCIA_TOTAL_ACUMULADA            FECHA_NUM  \n",
       "0                46464.699219                  0.000000  1488323514000000000  \n",
       "1               169612.296875                  0.000000  1488323514000000000  \n",
       "2                61891.300781                 14.000000  1488323514000000000  \n",
       "3                37424.699219                 77.006493  1488323514000000000  \n",
       "4                47944.500000                  0.000000  1488323514000000000  "
      ]
     },
     "execution_count": 30,
     "metadata": {},
     "output_type": "execute_result"
    }
   ],
   "source": [
    "# vamos a crear un campo nuevo para la fecha en formato timestamp, que nos será más cómodo a la hora de representar las gráficas.\n",
    "data_mar[\"FECHA_NUM\"] = pd.to_numeric(pd.to_datetime(data_mar[\"FECHA_TOMA_DATO\"]))\n",
    "data_mar.head()"
   ]
  },
  {
   "cell_type": "markdown",
   "metadata": {},
   "source": [
    "Vamos a examinar un nodo para ver cómo se comportan los datos para un sólo individuo de la muestra"
   ]
  },
  {
   "cell_type": "code",
   "execution_count": 31,
   "metadata": {},
   "outputs": [
    {
     "data": {
      "text/plain": [
       "139"
      ]
     },
     "execution_count": 31,
     "metadata": {},
     "output_type": "execute_result"
    }
   ],
   "source": [
    "# ¿cuantos nodos tenemos?\n",
    "len(data_mar[\"ID_NODO\"].unique())"
   ]
  },
  {
   "cell_type": "code",
   "execution_count": 32,
   "metadata": {},
   "outputs": [
    {
     "data": {
      "text/plain": [
       "<matplotlib.axes._subplots.AxesSubplot at 0x7f6c331b9978>"
      ]
     },
     "execution_count": 32,
     "metadata": {},
     "output_type": "execute_result"
    },
    {
     "data": {
      "image/png": "[encoded data removed]",
      "text/plain": [
       "<matplotlib.figure.Figure at 0x7f6c332a87f0>"
      ]
     },
     "metadata": {
      "needs_background": "light"
     },
     "output_type": "display_data"
    }
   ],
   "source": [
    "# vamos a estudiar un nodo al azar: el ID_NODO = 542\n",
    "data_mar[data_mar[\"ID_NODO\"] == 543].plot(x=\"FECHA_NUM\", y=\"ENERGIA_ACTIVA_ACUMULADA\")"
   ]
  },
  {
   "cell_type": "markdown",
   "metadata": {},
   "source": [
    "Observamos en la gráfica que a partir de cierta fecha el acumulado de energía activa es cero. Si probamos con otros nodos vemos que el patrón se repite. Además, si examinamos las fechas de las lecturas vemos que hay datos del mes anterior (febrero). Un posible interpretación que podemos hacer es que el periodo de lecturas no comienza exactamente el día 1 del mes en curso."
   ]
  },
  {
   "cell_type": "code",
   "execution_count": 33,
   "metadata": {},
   "outputs": [
    {
     "data": {
      "text/html": [
       "<div>\n",
       "<table border=\"1\" class=\"dataframe\">\n",
       "  <thead>\n",
       "    <tr style=\"text-align: right;\">\n",
       "      <th></th>\n",
       "      <th>ID_NODO</th>\n",
       "      <th>ID_DIA</th>\n",
       "      <th>FECHA_TOMA_DATO</th>\n",
       "      <th>ENERGIA_ACTIVA_ACUMULADA</th>\n",
       "      <th>ENERGIA_REACTIVA_ACUMULADA</th>\n",
       "      <th>POTENCIA_TOTAL_ACUMULADA</th>\n",
       "      <th>FECHA_NUM</th>\n",
       "    </tr>\n",
       "  </thead>\n",
       "  <tbody>\n",
       "    <tr>\n",
       "      <th>337194</th>\n",
       "      <td>542</td>\n",
       "      <td>26</td>\n",
       "      <td>2017-03-26 06:27:10</td>\n",
       "      <td>0.0</td>\n",
       "      <td>0.0</td>\n",
       "      <td>0.0</td>\n",
       "      <td>1490509630000000000</td>\n",
       "    </tr>\n",
       "    <tr>\n",
       "      <th>337342</th>\n",
       "      <td>542</td>\n",
       "      <td>26</td>\n",
       "      <td>2017-03-26 06:42:10</td>\n",
       "      <td>0.0</td>\n",
       "      <td>0.0</td>\n",
       "      <td>0.0</td>\n",
       "      <td>1490510530000000000</td>\n",
       "    </tr>\n",
       "    <tr>\n",
       "      <th>337468</th>\n",
       "      <td>542</td>\n",
       "      <td>26</td>\n",
       "      <td>2017-03-26 06:57:10</td>\n",
       "      <td>0.0</td>\n",
       "      <td>0.0</td>\n",
       "      <td>0.0</td>\n",
       "      <td>1490511430000000000</td>\n",
       "    </tr>\n",
       "    <tr>\n",
       "      <th>337492</th>\n",
       "      <td>542</td>\n",
       "      <td>26</td>\n",
       "      <td>2017-03-26 07:12:10</td>\n",
       "      <td>0.0</td>\n",
       "      <td>0.0</td>\n",
       "      <td>0.0</td>\n",
       "      <td>1490512330000000000</td>\n",
       "    </tr>\n",
       "    <tr>\n",
       "      <th>337759</th>\n",
       "      <td>542</td>\n",
       "      <td>26</td>\n",
       "      <td>2017-03-26 07:27:10</td>\n",
       "      <td>0.0</td>\n",
       "      <td>0.0</td>\n",
       "      <td>0.0</td>\n",
       "      <td>1490513230000000000</td>\n",
       "    </tr>\n",
       "  </tbody>\n",
       "</table>\n",
       "</div>"
      ],
      "text/plain": [
       "        ID_NODO  ID_DIA      FECHA_TOMA_DATO  ENERGIA_ACTIVA_ACUMULADA  \\\n",
       "337194      542      26  2017-03-26 06:27:10                       0.0   \n",
       "337342      542      26  2017-03-26 06:42:10                       0.0   \n",
       "337468      542      26  2017-03-26 06:57:10                       0.0   \n",
       "337492      542      26  2017-03-26 07:12:10                       0.0   \n",
       "337759      542      26  2017-03-26 07:27:10                       0.0   \n",
       "\n",
       "        ENERGIA_REACTIVA_ACUMULADA  POTENCIA_TOTAL_ACUMULADA  \\\n",
       "337194                         0.0                       0.0   \n",
       "337342                         0.0                       0.0   \n",
       "337468                         0.0                       0.0   \n",
       "337492                         0.0                       0.0   \n",
       "337759                         0.0                       0.0   \n",
       "\n",
       "                  FECHA_NUM  \n",
       "337194  1490509630000000000  \n",
       "337342  1490510530000000000  \n",
       "337468  1490511430000000000  \n",
       "337492  1490512330000000000  \n",
       "337759  1490513230000000000  "
      ]
     },
     "execution_count": 33,
     "metadata": {},
     "output_type": "execute_result"
    }
   ],
   "source": [
    "# veamos las fechas para las que las lecturas son cero\n",
    "data_mar[(data_mar[\"ENERGIA_ACTIVA_ACUMULADA\"]==0) & (data_mar[\"ID_NODO\"]==542)].head()"
   ]
  },
  {
   "cell_type": "markdown",
   "metadata": {},
   "source": [
    "Tenemos dos opciones. Podemos borrar los datos anteriores o posteriores a una fecha concreta. Otra opción es eliminar aquellas lecturas cuyo valor para el campo ENERGIA_ACTIVA_ACUMULADA sea 0. Para ver un ejemplo de cada, vamos a borrar las filas que pertenecen al mes anterior y seguidamente vamos a eliminar todas las filas cuyo campo ENERGIA_ACTIVA_ACUMULADA sea 0."
   ]
  },
  {
   "cell_type": "code",
   "execution_count": 34,
   "metadata": {},
   "outputs": [
    {
     "data": {
      "text/html": [
       "<div>\n",
       "<table border=\"1\" class=\"dataframe\">\n",
       "  <thead>\n",
       "    <tr style=\"text-align: right;\">\n",
       "      <th></th>\n",
       "      <th>ID_NODO</th>\n",
       "      <th>ID_DIA</th>\n",
       "      <th>FECHA_TOMA_DATO</th>\n",
       "      <th>ENERGIA_ACTIVA_ACUMULADA</th>\n",
       "      <th>ENERGIA_REACTIVA_ACUMULADA</th>\n",
       "      <th>POTENCIA_TOTAL_ACUMULADA</th>\n",
       "      <th>FECHA_NUM</th>\n",
       "    </tr>\n",
       "  </thead>\n",
       "  <tbody>\n",
       "    <tr>\n",
       "      <th>556</th>\n",
       "      <td>542</td>\n",
       "      <td>1</td>\n",
       "      <td>2017-03-01 00:11:54</td>\n",
       "      <td>360591.906250</td>\n",
       "      <td>121981.601562</td>\n",
       "      <td>0.000000</td>\n",
       "      <td>1488327114000000000</td>\n",
       "    </tr>\n",
       "    <tr>\n",
       "      <th>557</th>\n",
       "      <td>543</td>\n",
       "      <td>1</td>\n",
       "      <td>2017-03-01 00:11:54</td>\n",
       "      <td>300521.894531</td>\n",
       "      <td>242683.304688</td>\n",
       "      <td>0.000000</td>\n",
       "      <td>1488327114000000000</td>\n",
       "    </tr>\n",
       "    <tr>\n",
       "      <th>558</th>\n",
       "      <td>544</td>\n",
       "      <td>1</td>\n",
       "      <td>2017-03-01 00:11:54</td>\n",
       "      <td>2475.300049</td>\n",
       "      <td>51700.800781</td>\n",
       "      <td>80.024994</td>\n",
       "      <td>1488327114000000000</td>\n",
       "    </tr>\n",
       "    <tr>\n",
       "      <th>559</th>\n",
       "      <td>545</td>\n",
       "      <td>1</td>\n",
       "      <td>2017-03-01 00:11:54</td>\n",
       "      <td>0.000000</td>\n",
       "      <td>26725.900391</td>\n",
       "      <td>0.000000</td>\n",
       "      <td>1488327114000000000</td>\n",
       "    </tr>\n",
       "    <tr>\n",
       "      <th>560</th>\n",
       "      <td>546</td>\n",
       "      <td>1</td>\n",
       "      <td>2017-03-01 00:11:54</td>\n",
       "      <td>0.000000</td>\n",
       "      <td>0.000000</td>\n",
       "      <td>0.000000</td>\n",
       "      <td>1488327114000000000</td>\n",
       "    </tr>\n",
       "  </tbody>\n",
       "</table>\n",
       "</div>"
      ],
      "text/plain": [
       "     ID_NODO  ID_DIA      FECHA_TOMA_DATO  ENERGIA_ACTIVA_ACUMULADA  \\\n",
       "556      542       1  2017-03-01 00:11:54             360591.906250   \n",
       "557      543       1  2017-03-01 00:11:54             300521.894531   \n",
       "558      544       1  2017-03-01 00:11:54               2475.300049   \n",
       "559      545       1  2017-03-01 00:11:54                  0.000000   \n",
       "560      546       1  2017-03-01 00:11:54                  0.000000   \n",
       "\n",
       "     ENERGIA_REACTIVA_ACUMULADA  POTENCIA_TOTAL_ACUMULADA            FECHA_NUM  \n",
       "556               121981.601562                  0.000000  1488327114000000000  \n",
       "557               242683.304688                  0.000000  1488327114000000000  \n",
       "558                51700.800781                 80.024994  1488327114000000000  \n",
       "559                26725.900391                  0.000000  1488327114000000000  \n",
       "560                    0.000000                  0.000000  1488327114000000000  "
      ]
     },
     "execution_count": 34,
     "metadata": {},
     "output_type": "execute_result"
    }
   ],
   "source": [
    "# borramos datos del mes anterior\n",
    "data_mar = data_mar[data_mar[\"FECHA_TOMA_DATO\"]>\"2017-03\"]\n",
    "data_mar.head()"
   ]
  },
  {
   "cell_type": "code",
   "execution_count": 35,
   "metadata": {},
   "outputs": [
    {
     "data": {
      "text/plain": [
       "(237946, 7)"
      ]
     },
     "execution_count": 35,
     "metadata": {},
     "output_type": "execute_result"
    }
   ],
   "source": [
    "# borramos las filas donde se cumpla que ENERGIA_ACTIVA_ACUMULADA = 0 para todos los nodos\n",
    "data_mar = data_mar[data_mar[\"ENERGIA_ACTIVA_ACUMULADA\"]>0]\n",
    "data_mar.shape"
   ]
  },
  {
   "cell_type": "markdown",
   "metadata": {},
   "source": [
    "Podemos volver a examinar la gráfica que, ahora sí, nos permite comprender mejor cómo es la demanda de consumo para ese nodo."
   ]
  },
  {
   "cell_type": "code",
   "execution_count": 36,
   "metadata": {},
   "outputs": [
    {
     "data": {
      "text/plain": [
       "<matplotlib.axes._subplots.AxesSubplot at 0x7f6c330fb320>"
      ]
     },
     "execution_count": 36,
     "metadata": {},
     "output_type": "execute_result"
    },
    {
     "data": {
      "image/png": "[encoded data removed]",
      "text/plain": [
       "<matplotlib.figure.Figure at 0x7f6c330fb240>"
      ]
     },
     "metadata": {
      "needs_background": "light"
     },
     "output_type": "display_data"
    }
   ],
   "source": [
    "# creamos un dataframe con los datos del nodo 542\n",
    "data_mar_542 = data_mar[data_mar[\"ID_NODO\"] == 542]\n",
    "data_mar_542.plot(x=\"FECHA_NUM\", y=\"ENERGIA_ACTIVA_ACUMULADA\")"
   ]
  },
  {
   "cell_type": "code",
   "execution_count": 37,
   "metadata": {},
   "outputs": [
    {
     "data": {
      "text/plain": [
       "array([<matplotlib.axes._subplots.AxesSubplot object at 0x7f6c330d25c0>,\n",
       "       <matplotlib.axes._subplots.AxesSubplot object at 0x7f6c3307ce48>], dtype=object)"
      ]
     },
     "execution_count": 37,
     "metadata": {},
     "output_type": "execute_result"
    },
    {
     "data": {
      "image/png": "[encoded data removed]",
      "text/plain": [
       "<matplotlib.figure.Figure at 0x7f6c33295fd0>"
      ]
     },
     "metadata": {
      "needs_background": "light"
     },
     "output_type": "display_data"
    }
   ],
   "source": [
    "data_mar_542.plot(x=\"FECHA_NUM\", y=[\"ENERGIA_ACTIVA_ACUMULADA\",\"ENERGIA_REACTIVA_ACUMULADA\"], subplots=True )"
   ]
  },
  {
   "cell_type": "markdown",
   "metadata": {},
   "source": [
    "Aunque los valores de la energía reactiva son muy inferiores a los de la energía activa, parece que hay una correlación bastante acusada entre ambos tipos de energía. De hecho, si usamos la función corr() de Pandas para calcular la correlación entre ambos campos, vemos que es una correlación casi perfecta (0.99)."
   ]
  },
  {
   "cell_type": "code",
   "execution_count": 38,
   "metadata": {},
   "outputs": [
    {
     "data": {
      "text/plain": [
       "0.99990652807701275"
      ]
     },
     "execution_count": 38,
     "metadata": {},
     "output_type": "execute_result"
    }
   ],
   "source": [
    "data_mar_542[\"ENERGIA_ACTIVA_ACUMULADA\"].corr(data_mar_542[\"ENERGIA_REACTIVA_ACUMULADA\"])"
   ]
  },
  {
   "cell_type": "markdown",
   "metadata": {},
   "source": [
    "La energía reactiva es un tipo de energía eléctrica, que absorben de la red algunos equipos eléctricos pero que luego la devuelven, por lo que no supone un consumo, aunque sí hay que generarla y transportarla hasta los equipos. Por ello las compañías eléctricas penalizan en factura el consumo de energía reactiva a partir de un cierto valor.\n",
    "Si quisieramos hacer un análisis de en qué nodos hay un consumo anomalo de energía reactiva, podríamos ver si la relación entre la energía activa y reactive no tienen una correlación directa (aquí estoy haciendo muchas suposiciones que podrían no ser ciertas a nivel eléctrico, pero valga como ejemplo).\n",
    "¿Se observará la misma correlación en todos los nodos? Vamos a crear un nuevo DataFrame la correlación entre ambas lecturas. "
   ]
  },
  {
   "cell_type": "code",
   "execution_count": 39,
   "metadata": {},
   "outputs": [
    {
     "data": {
      "text/html": [
       "<div>\n",
       "<table border=\"1\" class=\"dataframe\">\n",
       "  <thead>\n",
       "    <tr style=\"text-align: right;\">\n",
       "      <th></th>\n",
       "      <th>ID_NODO</th>\n",
       "      <th>CORRELACION</th>\n",
       "    </tr>\n",
       "  </thead>\n",
       "  <tbody>\n",
       "    <tr>\n",
       "      <th>0</th>\n",
       "      <td>542</td>\n",
       "      <td>0.999907</td>\n",
       "    </tr>\n",
       "    <tr>\n",
       "      <th>1</th>\n",
       "      <td>543</td>\n",
       "      <td>0.961227</td>\n",
       "    </tr>\n",
       "    <tr>\n",
       "      <th>2</th>\n",
       "      <td>544</td>\n",
       "      <td>0.999266</td>\n",
       "    </tr>\n",
       "    <tr>\n",
       "      <th>3</th>\n",
       "      <td>547</td>\n",
       "      <td>0.999963</td>\n",
       "    </tr>\n",
       "    <tr>\n",
       "      <th>4</th>\n",
       "      <td>33756</td>\n",
       "      <td>0.998668</td>\n",
       "    </tr>\n",
       "    <tr>\n",
       "      <th>5</th>\n",
       "      <td>71530</td>\n",
       "      <td>NaN</td>\n",
       "    </tr>\n",
       "    <tr>\n",
       "      <th>6</th>\n",
       "      <td>71838</td>\n",
       "      <td>NaN</td>\n",
       "    </tr>\n",
       "    <tr>\n",
       "      <th>7</th>\n",
       "      <td>71992</td>\n",
       "      <td>NaN</td>\n",
       "    </tr>\n",
       "    <tr>\n",
       "      <th>8</th>\n",
       "      <td>72454</td>\n",
       "      <td>0.999997</td>\n",
       "    </tr>\n",
       "    <tr>\n",
       "      <th>9</th>\n",
       "      <td>73224</td>\n",
       "      <td>NaN</td>\n",
       "    </tr>\n",
       "  </tbody>\n",
       "</table>\n",
       "</div>"
      ],
      "text/plain": [
       "   ID_NODO  CORRELACION\n",
       "0      542     0.999907\n",
       "1      543     0.961227\n",
       "2      544     0.999266\n",
       "3      547     0.999963\n",
       "4    33756     0.998668\n",
       "5    71530          NaN\n",
       "6    71838          NaN\n",
       "7    71992          NaN\n",
       "8    72454     0.999997\n",
       "9    73224          NaN"
      ]
     },
     "execution_count": 39,
     "metadata": {},
     "output_type": "execute_result"
    }
   ],
   "source": [
    "# creamos un nuevo dataframe con los campos NODO_ID y la correlación\n",
    "c = []\n",
    "for i in data_mar[\"ID_NODO\"].unique().tolist():\n",
    "    c.append([i, data_mar[data_mar[\"ID_NODO\"]==i][\"ENERGIA_ACTIVA_ACUMULADA\"].corr(data_mar[\"ENERGIA_REACTIVA_ACUMULADA\"])])\n",
    "\n",
    "correlaciones = pd.DataFrame(c, columns=[\"ID_NODO\", \"CORRELACION\"])\n",
    "correlaciones.head(10)"
   ]
  },
  {
   "cell_type": "markdown",
   "metadata": {},
   "source": [
    "Observamos que hay correlaciones que toman el valor NaN (Not A Number). ¿Qué ha pasado? Si generamos la gráfica de uno de los nodos cuya correlación es NaN vemos que el valor de ambas variables es siempre constante, es decir, no crece en todo el periodo de tiempo que estamos observando. Por defecto, Pandas calcula la correlación de pearson, cuya formula es cor(i,j) = cov(i,j)/[stdev(i)*stdev(j)]. Como la desviación estandad es cero y un divisor no puede ser cero, obtenemos un bonito NaN. Lo cuál, dicho sea de paso, nos viene de perlas para ver como tratar con valores nulos en un DataFrame."
   ]
  },
  {
   "cell_type": "code",
   "execution_count": 40,
   "metadata": {},
   "outputs": [
    {
     "data": {
      "text/plain": [
       "array([<matplotlib.axes._subplots.AxesSubplot object at 0x7f6c32f736d8>,\n",
       "       <matplotlib.axes._subplots.AxesSubplot object at 0x7f6c32f98978>], dtype=object)"
      ]
     },
     "execution_count": 40,
     "metadata": {},
     "output_type": "execute_result"
    },
    {
     "data": {
      "image/png": "[encoded data removed]",
      "text/plain": [
       "<matplotlib.figure.Figure at 0x7f6c32fe09e8>"
      ]
     },
     "metadata": {
      "needs_background": "light"
     },
     "output_type": "display_data"
    }
   ],
   "source": [
    "data_mar[data_mar[\"ID_NODO\"]==71530].plot(x=\"FECHA_NUM\", y=[\"ENERGIA_ACTIVA_ACUMULADA\",\"ENERGIA_REACTIVA_ACUMULADA\"], subplots=True )"
   ]
  },
  {
   "cell_type": "markdown",
   "metadata": {},
   "source": [
    "Vamos a ver qué opciones tenemos para tratar con los valores nulos. Podemos:\n",
    "* Eliminar las filas con valor nulo (con el método dropna())\n",
    "* Rellenar las filas con un valor calculado (con el método fillna())"
   ]
  },
  {
   "cell_type": "code",
   "execution_count": 41,
   "metadata": {},
   "outputs": [
    {
     "data": {
      "text/plain": [
       "0    0.999907\n",
       "1    0.961227\n",
       "2    0.999266\n",
       "3    0.999963\n",
       "4    0.998668\n",
       "5    0.000000\n",
       "6    0.000000\n",
       "7    0.000000\n",
       "8    0.999997\n",
       "9    0.000000\n",
       "Name: CORRELACION, dtype: float64"
      ]
     },
     "execution_count": 41,
     "metadata": {},
     "output_type": "execute_result"
    }
   ],
   "source": [
    "# rellenar filas NaN con un valor concreto (o en este caso)\n",
    "cor_cero = correlaciones[\"CORRELACION\"].fillna(0)\n",
    "cor_cero.head(10)"
   ]
  },
  {
   "cell_type": "code",
   "execution_count": 42,
   "metadata": {},
   "outputs": [
    {
     "data": {
      "text/plain": [
       "0    0.999907\n",
       "1    0.961227\n",
       "2    0.999266\n",
       "3    0.999963\n",
       "4    0.998668\n",
       "5    0.971874\n",
       "6    0.971874\n",
       "7    0.971874\n",
       "8    0.999997\n",
       "9    0.971874\n",
       "Name: CORRELACION, dtype: float64"
      ]
     },
     "execution_count": 42,
     "metadata": {},
     "output_type": "execute_result"
    }
   ],
   "source": [
    "# rellenar filas con el valor medio de la columna (o cualquier otra función))\n",
    "cor_media = correlaciones[\"CORRELACION\"].fillna(correlaciones[\"CORRELACION\"].mean())\n",
    "cor_media.head(10)"
   ]
  },
  {
   "cell_type": "code",
   "execution_count": 43,
   "metadata": {},
   "outputs": [
    {
     "data": {
      "text/html": [
       "<div>\n",
       "<table border=\"1\" class=\"dataframe\">\n",
       "  <thead>\n",
       "    <tr style=\"text-align: right;\">\n",
       "      <th></th>\n",
       "      <th>ID_NODO</th>\n",
       "      <th>CORRELACION</th>\n",
       "    </tr>\n",
       "  </thead>\n",
       "  <tbody>\n",
       "    <tr>\n",
       "      <th>0</th>\n",
       "      <td>542</td>\n",
       "      <td>0.999907</td>\n",
       "    </tr>\n",
       "    <tr>\n",
       "      <th>1</th>\n",
       "      <td>543</td>\n",
       "      <td>0.961227</td>\n",
       "    </tr>\n",
       "    <tr>\n",
       "      <th>2</th>\n",
       "      <td>544</td>\n",
       "      <td>0.999266</td>\n",
       "    </tr>\n",
       "    <tr>\n",
       "      <th>3</th>\n",
       "      <td>547</td>\n",
       "      <td>0.999963</td>\n",
       "    </tr>\n",
       "    <tr>\n",
       "      <th>4</th>\n",
       "      <td>33756</td>\n",
       "      <td>0.998668</td>\n",
       "    </tr>\n",
       "    <tr>\n",
       "      <th>8</th>\n",
       "      <td>72454</td>\n",
       "      <td>0.999997</td>\n",
       "    </tr>\n",
       "    <tr>\n",
       "      <th>10</th>\n",
       "      <td>73840</td>\n",
       "      <td>0.999995</td>\n",
       "    </tr>\n",
       "    <tr>\n",
       "      <th>11</th>\n",
       "      <td>74918</td>\n",
       "      <td>0.999972</td>\n",
       "    </tr>\n",
       "    <tr>\n",
       "      <th>12</th>\n",
       "      <td>75072</td>\n",
       "      <td>0.999946</td>\n",
       "    </tr>\n",
       "    <tr>\n",
       "      <th>13</th>\n",
       "      <td>75534</td>\n",
       "      <td>0.999648</td>\n",
       "    </tr>\n",
       "  </tbody>\n",
       "</table>\n",
       "</div>"
      ],
      "text/plain": [
       "    ID_NODO  CORRELACION\n",
       "0       542     0.999907\n",
       "1       543     0.961227\n",
       "2       544     0.999266\n",
       "3       547     0.999963\n",
       "4     33756     0.998668\n",
       "8     72454     0.999997\n",
       "10    73840     0.999995\n",
       "11    74918     0.999972\n",
       "12    75072     0.999946\n",
       "13    75534     0.999648"
      ]
     },
     "execution_count": 43,
     "metadata": {},
     "output_type": "execute_result"
    }
   ],
   "source": [
    "# pero en este caso vamos a optar por eliminarlas\n",
    "# si axis=0 borra por filas. Si axis=1 borra por columnas\n",
    "correlaciones = correlaciones.dropna(axis=0)\n",
    "correlaciones.head(10)"
   ]
  },
  {
   "cell_type": "markdown",
   "metadata": {},
   "source": [
    "Si lo que queremos es estudiar cómo se comporta el consumo en los cuadros eléctricos donde hay baja correlación, podemos ordenar la lista para ver cuáles tienen peor correlación."
   ]
  },
  {
   "cell_type": "code",
   "execution_count": 44,
   "metadata": {},
   "outputs": [
    {
     "data": {
      "text/html": [
       "<div>\n",
       "<table border=\"1\" class=\"dataframe\">\n",
       "  <thead>\n",
       "    <tr style=\"text-align: right;\">\n",
       "      <th></th>\n",
       "      <th>ID_NODO</th>\n",
       "      <th>CORRELACION</th>\n",
       "    </tr>\n",
       "  </thead>\n",
       "  <tbody>\n",
       "    <tr>\n",
       "      <th>90</th>\n",
       "      <td>52061</td>\n",
       "      <td>0.514461</td>\n",
       "    </tr>\n",
       "    <tr>\n",
       "      <th>61</th>\n",
       "      <td>75688</td>\n",
       "      <td>0.617365</td>\n",
       "    </tr>\n",
       "    <tr>\n",
       "      <th>84</th>\n",
       "      <td>52775</td>\n",
       "      <td>0.649950</td>\n",
       "    </tr>\n",
       "    <tr>\n",
       "      <th>67</th>\n",
       "      <td>77382</td>\n",
       "      <td>0.826462</td>\n",
       "    </tr>\n",
       "    <tr>\n",
       "      <th>40</th>\n",
       "      <td>100682</td>\n",
       "      <td>0.885768</td>\n",
       "    </tr>\n",
       "  </tbody>\n",
       "</table>\n",
       "</div>"
      ],
      "text/plain": [
       "    ID_NODO  CORRELACION\n",
       "90    52061     0.514461\n",
       "61    75688     0.617365\n",
       "84    52775     0.649950\n",
       "67    77382     0.826462\n",
       "40   100682     0.885768"
      ]
     },
     "execution_count": 44,
     "metadata": {},
     "output_type": "execute_result"
    }
   ],
   "source": [
    "correlaciones = correlaciones.sort_values(by=\"CORRELACION\")\n",
    "correlaciones.head()"
   ]
  },
  {
   "cell_type": "code",
   "execution_count": 45,
   "metadata": {},
   "outputs": [
    {
     "data": {
      "text/plain": [
       "array([<matplotlib.axes._subplots.AxesSubplot object at 0x7f6c32f220f0>,\n",
       "       <matplotlib.axes._subplots.AxesSubplot object at 0x7f6c32eb1358>], dtype=object)"
      ]
     },
     "execution_count": 45,
     "metadata": {},
     "output_type": "execute_result"
    },
    {
     "data": {
      "image/png": "[encoded data removed]",
      "text/plain": [
       "<matplotlib.figure.Figure at 0x7f6c3319fa20>"
      ]
     },
     "metadata": {
      "needs_background": "light"
     },
     "output_type": "display_data"
    }
   ],
   "source": [
    "data_mar[data_mar[\"ID_NODO\"]==52061].plot(x=\"FECHA_NUM\", y=[\"ENERGIA_ACTIVA_ACUMULADA\",\"ENERGIA_REACTIVA_ACUMULADA\"], subplots=True )"
   ]
  },
  {
   "cell_type": "markdown",
   "metadata": {},
   "source": [
    "A partir de esta información podríamos deducir que a ese cuadro eléctrico se conecta maquinaria que hace uso intensivo de campos eléctricos, como bobinas o motores.\n",
    "Vamos ahora a ver cómo se comporta el campo POTENCIA_TOTAL_ACUMULADA. Miramos el primer nodo."
   ]
  },
  {
   "cell_type": "code",
   "execution_count": 46,
   "metadata": {},
   "outputs": [
    {
     "data": {
      "text/plain": [
       "array([<matplotlib.axes._subplots.AxesSubplot object at 0x7f6c32db4358>], dtype=object)"
      ]
     },
     "execution_count": 46,
     "metadata": {},
     "output_type": "execute_result"
    },
    {
     "data": {
      "image/png": "[encoded data removed]",
      "text/plain": [
       "<matplotlib.figure.Figure at 0x7f6c32e2c8d0>"
      ]
     },
     "metadata": {
      "needs_background": "light"
     },
     "output_type": "display_data"
    }
   ],
   "source": [
    "data_mar[data_mar[\"ID_NODO\"]==52061].plot(x=\"FECHA_NUM\", y=[\"POTENCIA_TOTAL_ACUMULADA\"], subplots=True )"
   ]
  },
  {
   "cell_type": "markdown",
   "metadata": {},
   "source": [
    "Está a cero, y si observamos otros nodos vemos que también. Como no tenemos más detalles sobre el dataset sólo podemos hacer suposiciones (como que por error no se ha rellenado). De todas formas nos viene bien para ver cómo podemos combinar valores de de dos o más campos para volcarlos en uno. Vamos a suponer que en este campo, el valor que debería haber es la suma de la energía activa y reactiva (en realidad ambos valores están en unidades distintas, pero por simplicidad supondremos que ambos valores son Kw/h y que podemos sumarlos alegremente). Vamos a conbinar pues las suma de los dos valores en el campo POTENCIA_TOTAL_ACUMULADA."
   ]
  },
  {
   "cell_type": "code",
   "execution_count": 47,
   "metadata": {},
   "outputs": [
    {
     "data": {
      "text/html": [
       "<div>\n",
       "<table border=\"1\" class=\"dataframe\">\n",
       "  <thead>\n",
       "    <tr style=\"text-align: right;\">\n",
       "      <th></th>\n",
       "      <th>ID_NODO</th>\n",
       "      <th>ID_DIA</th>\n",
       "      <th>FECHA_TOMA_DATO</th>\n",
       "      <th>ENERGIA_ACTIVA_ACUMULADA</th>\n",
       "      <th>ENERGIA_REACTIVA_ACUMULADA</th>\n",
       "      <th>POTENCIA_TOTAL_ACUMULADA</th>\n",
       "      <th>FECHA_NUM</th>\n",
       "    </tr>\n",
       "  </thead>\n",
       "  <tbody>\n",
       "    <tr>\n",
       "      <th>556</th>\n",
       "      <td>542</td>\n",
       "      <td>1</td>\n",
       "      <td>2017-03-01 00:11:54</td>\n",
       "      <td>3.605919e+05</td>\n",
       "      <td>1.219816e+05</td>\n",
       "      <td>4.825735e+05</td>\n",
       "      <td>1488327114000000000</td>\n",
       "    </tr>\n",
       "    <tr>\n",
       "      <th>557</th>\n",
       "      <td>543</td>\n",
       "      <td>1</td>\n",
       "      <td>2017-03-01 00:11:54</td>\n",
       "      <td>3.005219e+05</td>\n",
       "      <td>2.426833e+05</td>\n",
       "      <td>5.432052e+05</td>\n",
       "      <td>1488327114000000000</td>\n",
       "    </tr>\n",
       "    <tr>\n",
       "      <th>558</th>\n",
       "      <td>544</td>\n",
       "      <td>1</td>\n",
       "      <td>2017-03-01 00:11:54</td>\n",
       "      <td>2.475300e+03</td>\n",
       "      <td>5.170080e+04</td>\n",
       "      <td>5.417610e+04</td>\n",
       "      <td>1488327114000000000</td>\n",
       "    </tr>\n",
       "    <tr>\n",
       "      <th>561</th>\n",
       "      <td>547</td>\n",
       "      <td>1</td>\n",
       "      <td>2017-03-01 00:11:54</td>\n",
       "      <td>4.085408e+06</td>\n",
       "      <td>3.286907e+06</td>\n",
       "      <td>7.372315e+06</td>\n",
       "      <td>1488327114000000000</td>\n",
       "    </tr>\n",
       "    <tr>\n",
       "      <th>566</th>\n",
       "      <td>33756</td>\n",
       "      <td>1</td>\n",
       "      <td>2017-03-01 00:11:54</td>\n",
       "      <td>1.144733e+07</td>\n",
       "      <td>8.198532e+06</td>\n",
       "      <td>1.964586e+07</td>\n",
       "      <td>1488327114000000000</td>\n",
       "    </tr>\n",
       "  </tbody>\n",
       "</table>\n",
       "</div>"
      ],
      "text/plain": [
       "     ID_NODO  ID_DIA      FECHA_TOMA_DATO  ENERGIA_ACTIVA_ACUMULADA  \\\n",
       "556      542       1  2017-03-01 00:11:54              3.605919e+05   \n",
       "557      543       1  2017-03-01 00:11:54              3.005219e+05   \n",
       "558      544       1  2017-03-01 00:11:54              2.475300e+03   \n",
       "561      547       1  2017-03-01 00:11:54              4.085408e+06   \n",
       "566    33756       1  2017-03-01 00:11:54              1.144733e+07   \n",
       "\n",
       "     ENERGIA_REACTIVA_ACUMULADA  POTENCIA_TOTAL_ACUMULADA            FECHA_NUM  \n",
       "556                1.219816e+05              4.825735e+05  1488327114000000000  \n",
       "557                2.426833e+05              5.432052e+05  1488327114000000000  \n",
       "558                5.170080e+04              5.417610e+04  1488327114000000000  \n",
       "561                3.286907e+06              7.372315e+06  1488327114000000000  \n",
       "566                8.198532e+06              1.964586e+07  1488327114000000000  "
      ]
     },
     "execution_count": 47,
     "metadata": {},
     "output_type": "execute_result"
    }
   ],
   "source": [
    "data_mar[\"POTENCIA_TOTAL_ACUMULADA\"] = data_mar[\"ENERGIA_ACTIVA_ACUMULADA\"] + data_mar[\"ENERGIA_REACTIVA_ACUMULADA\"]\n",
    "data_mar.head()"
   ]
  },
  {
   "cell_type": "markdown",
   "metadata": {},
   "source": [
    "En este momento tenemos, por un lado, el DataFrame con las lecturas de los cuadros y por otro un DataFrame con las correlaciones que hemos calculado. ¿Podemos agregar las correlaciones a la tabla principal? Claro. Esta operación se llama unión (join en inglés). Hay cuatro tipos: inner join, left join, right join y outer join. No voy a entrar en detalle ya que son los mismos que los de SQL. Si queréis saber más podéis consultar aquí: https://es.wikipedia.org/wiki/Join"
   ]
  },
  {
   "cell_type": "code",
   "execution_count": 48,
   "metadata": {},
   "outputs": [
    {
     "data": {
      "text/html": [
       "<div>\n",
       "<table border=\"1\" class=\"dataframe\">\n",
       "  <thead>\n",
       "    <tr style=\"text-align: right;\">\n",
       "      <th></th>\n",
       "      <th>ID_NODO</th>\n",
       "      <th>ID_DIA</th>\n",
       "      <th>FECHA_TOMA_DATO</th>\n",
       "      <th>ENERGIA_ACTIVA_ACUMULADA</th>\n",
       "      <th>ENERGIA_REACTIVA_ACUMULADA</th>\n",
       "      <th>POTENCIA_TOTAL_ACUMULADA</th>\n",
       "      <th>FECHA_NUM</th>\n",
       "      <th>CORRELACION</th>\n",
       "    </tr>\n",
       "  </thead>\n",
       "  <tbody>\n",
       "    <tr>\n",
       "      <th>0</th>\n",
       "      <td>542</td>\n",
       "      <td>1</td>\n",
       "      <td>2017-03-01 00:11:54</td>\n",
       "      <td>3.605919e+05</td>\n",
       "      <td>1.219816e+05</td>\n",
       "      <td>4.825735e+05</td>\n",
       "      <td>1488327114000000000</td>\n",
       "      <td>0.999907</td>\n",
       "    </tr>\n",
       "    <tr>\n",
       "      <th>1</th>\n",
       "      <td>543</td>\n",
       "      <td>1</td>\n",
       "      <td>2017-03-01 00:11:54</td>\n",
       "      <td>3.005219e+05</td>\n",
       "      <td>2.426833e+05</td>\n",
       "      <td>5.432052e+05</td>\n",
       "      <td>1488327114000000000</td>\n",
       "      <td>0.961227</td>\n",
       "    </tr>\n",
       "    <tr>\n",
       "      <th>2</th>\n",
       "      <td>544</td>\n",
       "      <td>1</td>\n",
       "      <td>2017-03-01 00:11:54</td>\n",
       "      <td>2.475300e+03</td>\n",
       "      <td>5.170080e+04</td>\n",
       "      <td>5.417610e+04</td>\n",
       "      <td>1488327114000000000</td>\n",
       "      <td>0.999266</td>\n",
       "    </tr>\n",
       "    <tr>\n",
       "      <th>3</th>\n",
       "      <td>547</td>\n",
       "      <td>1</td>\n",
       "      <td>2017-03-01 00:11:54</td>\n",
       "      <td>4.085408e+06</td>\n",
       "      <td>3.286907e+06</td>\n",
       "      <td>7.372315e+06</td>\n",
       "      <td>1488327114000000000</td>\n",
       "      <td>0.999963</td>\n",
       "    </tr>\n",
       "    <tr>\n",
       "      <th>4</th>\n",
       "      <td>33756</td>\n",
       "      <td>1</td>\n",
       "      <td>2017-03-01 00:11:54</td>\n",
       "      <td>1.144733e+07</td>\n",
       "      <td>8.198532e+06</td>\n",
       "      <td>1.964586e+07</td>\n",
       "      <td>1488327114000000000</td>\n",
       "      <td>0.998668</td>\n",
       "    </tr>\n",
       "  </tbody>\n",
       "</table>\n",
       "</div>"
      ],
      "text/plain": [
       "   ID_NODO  ID_DIA      FECHA_TOMA_DATO  ENERGIA_ACTIVA_ACUMULADA  \\\n",
       "0      542       1  2017-03-01 00:11:54              3.605919e+05   \n",
       "1      543       1  2017-03-01 00:11:54              3.005219e+05   \n",
       "2      544       1  2017-03-01 00:11:54              2.475300e+03   \n",
       "3      547       1  2017-03-01 00:11:54              4.085408e+06   \n",
       "4    33756       1  2017-03-01 00:11:54              1.144733e+07   \n",
       "\n",
       "   ENERGIA_REACTIVA_ACUMULADA  POTENCIA_TOTAL_ACUMULADA            FECHA_NUM  \\\n",
       "0                1.219816e+05              4.825735e+05  1488327114000000000   \n",
       "1                2.426833e+05              5.432052e+05  1488327114000000000   \n",
       "2                5.170080e+04              5.417610e+04  1488327114000000000   \n",
       "3                3.286907e+06              7.372315e+06  1488327114000000000   \n",
       "4                8.198532e+06              1.964586e+07  1488327114000000000   \n",
       "\n",
       "   CORRELACION  \n",
       "0     0.999907  \n",
       "1     0.961227  \n",
       "2     0.999266  \n",
       "3     0.999963  \n",
       "4     0.998668  "
      ]
     },
     "execution_count": 48,
     "metadata": {},
     "output_type": "execute_result"
    }
   ],
   "source": [
    "# unimos los DataFrames con left join, ya que el segundo dataframe (correlaciones) tiene menos filas \n",
    "# y por lo tanto, no todos los nodos disponen de datos de correlación (recuerda que borramos los NaN)\n",
    "data_mar = pd.merge(left=data_mar, right=correlaciones, how=\"left\", left_on=\"ID_NODO\", right_on=\"ID_NODO\")\n",
    "data_mar.head()"
   ]
  },
  {
   "cell_type": "markdown",
   "metadata": {},
   "source": [
    "Los parámetros left y right indican los DataFrames que vamos a fundir. El parámetro how nos permite indicar el tipo de join, en este caso left join. Finalmente left_on y right_on nos sirve para indicar cuál es el campo clave para unir ambos DataFrames. En este caso el campo común es ID_NODO."
   ]
  },
  {
   "cell_type": "code",
   "execution_count": null,
   "metadata": {},
   "outputs": [],
   "source": []
  }
 ],
 "metadata": {
  "kernelspec": {
   "display_name": "Python 3",
   "language": "python",
   "name": "python3"
  },
  "language_info": {
   "codemirror_mode": {
    "name": "ipython",
    "version": 3
   },
   "file_extension": ".py",
   "mimetype": "text/x-python",
   "name": "python",
   "nbconvert_exporter": "python",
   "pygments_lexer": "ipython3",
   "version": "3.5.3"
  }
 },
 "nbformat": 4,
 "nbformat_minor": 2
}
